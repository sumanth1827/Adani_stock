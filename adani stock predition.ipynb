{
 "cells": [
  {
   "cell_type": "code",
   "execution_count": 26,
   "id": "482c407e",
   "metadata": {},
   "outputs": [],
   "source": [
    "import tensorflow as tf\n",
    "import numpy as np\n",
    "import pandas as pd\n",
    "import matplotlib.pyplot as plt"
   ]
  },
  {
   "cell_type": "code",
   "execution_count": 27,
   "id": "7086d1de",
   "metadata": {},
   "outputs": [],
   "source": [
    "train_dataset = pd.read_csv('train set adani.csv')"
   ]
  },
  {
   "cell_type": "code",
   "execution_count": 28,
   "id": "26d59982",
   "metadata": {},
   "outputs": [],
   "source": [
    "train_set = train_dataset.iloc[:,1:2].values"
   ]
  },
  {
   "cell_type": "code",
   "execution_count": 29,
   "id": "c94b3280",
   "metadata": {},
   "outputs": [
    {
     "data": {
      "text/plain": [
       "array([485.4])"
      ]
     },
     "execution_count": 29,
     "metadata": {},
     "output_type": "execute_result"
    }
   ],
   "source": [
    "train_set[2547,:]"
   ]
  },
  {
   "cell_type": "markdown",
   "id": "191989c3",
   "metadata": {},
   "source": [
    "# Data preprocessing\n",
    "using normalization instead of standarization"
   ]
  },
  {
   "cell_type": "code",
   "execution_count": 30,
   "id": "23e0cdbb",
   "metadata": {},
   "outputs": [],
   "source": [
    "from sklearn.preprocessing import MinMaxScaler\n"
   ]
  },
  {
   "cell_type": "code",
   "execution_count": 31,
   "id": "b3700bb4",
   "metadata": {},
   "outputs": [],
   "source": [
    "sc = MinMaxScaler(feature_range= (0,1))\n",
    "scales_train_set = sc.fit_transform(train_set)"
   ]
  },
  {
   "cell_type": "code",
   "execution_count": 32,
   "id": "cab54312",
   "metadata": {},
   "outputs": [],
   "source": [
    "x_train = []\n",
    "y_train = []\n",
    "for i in range(60 ,2547 ):\n",
    "    x_train.append(scales_train_set[i-60:i,0])\n",
    "    y_train.append(scales_train_set[i,0])\n",
    "x_train, y_train = np.array(x_train), np.array(y_train)    "
   ]
  },
  {
   "cell_type": "code",
   "execution_count": 33,
   "id": "5ab6b781",
   "metadata": {},
   "outputs": [],
   "source": [
    "x_train = np.reshape(x_train, (x_train.shape[0], x_train.shape[1],1))"
   ]
  },
  {
   "cell_type": "code",
   "execution_count": 34,
   "id": "879964c9",
   "metadata": {},
   "outputs": [],
   "source": [
    "from keras.models import Sequential\n",
    "from keras.layers import Dense, LSTM, Dropout"
   ]
  },
  {
   "cell_type": "code",
   "execution_count": 35,
   "id": "9de8d6b2",
   "metadata": {},
   "outputs": [],
   "source": [
    "regressor = Sequential()"
   ]
  },
  {
   "cell_type": "markdown",
   "id": "68b545be",
   "metadata": {},
   "source": [
    "dropouts prevent overfitting\n"
   ]
  },
  {
   "cell_type": "code",
   "execution_count": 36,
   "id": "a98930ca",
   "metadata": {},
   "outputs": [],
   "source": [
    "regressor.add(LSTM(units = 50, return_sequences = True, input_shape = (x_train.shape[1],1)))\n",
    "regressor.add(Dropout(0.2))"
   ]
  },
  {
   "cell_type": "code",
   "execution_count": 37,
   "id": "4fc9d86b",
   "metadata": {},
   "outputs": [],
   "source": [
    "regressor.add(LSTM(units = 50, return_sequences = True))\n",
    "regressor.add(Dropout(0.2))"
   ]
  },
  {
   "cell_type": "code",
   "execution_count": 38,
   "id": "206a4812",
   "metadata": {},
   "outputs": [],
   "source": [
    "regressor.add(LSTM(units = 50, return_sequences = True))\n",
    "regressor.add(Dropout(0.2))"
   ]
  },
  {
   "cell_type": "code",
   "execution_count": 39,
   "id": "c8cd7151",
   "metadata": {},
   "outputs": [],
   "source": [
    "regressor.add(LSTM(units = 50))\n",
    "regressor.add(Dropout(0.2))"
   ]
  },
  {
   "cell_type": "code",
   "execution_count": 40,
   "id": "9f9256c2",
   "metadata": {},
   "outputs": [],
   "source": [
    "regressor.add(Dense(units = 1))"
   ]
  },
  {
   "cell_type": "code",
   "execution_count": 41,
   "id": "9257288c",
   "metadata": {},
   "outputs": [],
   "source": [
    "regressor.compile(optimizer= 'adam', loss = 'mean_squared_error',metrics = ['accuracy'])"
   ]
  },
  {
   "cell_type": "code",
   "execution_count": 42,
   "id": "4ab669d0",
   "metadata": {},
   "outputs": [
    {
     "name": "stdout",
     "output_type": "stream",
     "text": [
      "Epoch 1/150\n",
      "78/78 [==============================] - 9s 56ms/step - loss: 0.0202 - accuracy: 8.0418e-04\n",
      "Epoch 2/150\n",
      "78/78 [==============================] - 5s 62ms/step - loss: 0.0049 - accuracy: 8.0418e-04\n",
      "Epoch 3/150\n",
      "78/78 [==============================] - 5s 58ms/step - loss: 0.0045 - accuracy: 8.0418e-04\n",
      "Epoch 4/150\n",
      "78/78 [==============================] - 4s 55ms/step - loss: 0.0045 - accuracy: 8.0418e-04\n",
      "Epoch 5/150\n",
      "78/78 [==============================] - 4s 55ms/step - loss: 0.0046 - accuracy: 8.0418e-04\n",
      "Epoch 6/150\n",
      "78/78 [==============================] - 5s 65ms/step - loss: 0.0042 - accuracy: 8.0418e-04\n",
      "Epoch 7/150\n",
      "78/78 [==============================] - 4s 56ms/step - loss: 0.0037 - accuracy: 8.0418e-04\n",
      "Epoch 8/150\n",
      "78/78 [==============================] - 4s 55ms/step - loss: 0.0035 - accuracy: 8.0418e-04\n",
      "Epoch 9/150\n",
      "78/78 [==============================] - 4s 56ms/step - loss: 0.0032 - accuracy: 8.0418e-04\n",
      "Epoch 10/150\n",
      "78/78 [==============================] - 4s 56ms/step - loss: 0.0032 - accuracy: 8.0418e-04\n",
      "Epoch 11/150\n",
      "78/78 [==============================] - 4s 55ms/step - loss: 0.0030 - accuracy: 8.0418e-04\n",
      "Epoch 12/150\n",
      "78/78 [==============================] - 4s 55ms/step - loss: 0.0030 - accuracy: 8.0418e-04\n",
      "Epoch 13/150\n",
      "78/78 [==============================] - 4s 55ms/step - loss: 0.0029 - accuracy: 8.0418e-04\n",
      "Epoch 14/150\n",
      "78/78 [==============================] - 4s 55ms/step - loss: 0.0027 - accuracy: 8.0418e-04\n",
      "Epoch 15/150\n",
      "78/78 [==============================] - 4s 55ms/step - loss: 0.0027 - accuracy: 8.0418e-04\n",
      "Epoch 16/150\n",
      "78/78 [==============================] - 4s 55ms/step - loss: 0.0026 - accuracy: 8.0418e-04\n",
      "Epoch 17/150\n",
      "78/78 [==============================] - 4s 56ms/step - loss: 0.0025 - accuracy: 8.0418e-04\n",
      "Epoch 18/150\n",
      "78/78 [==============================] - 4s 55ms/step - loss: 0.0024 - accuracy: 8.0418e-04\n",
      "Epoch 19/150\n",
      "78/78 [==============================] - 4s 55ms/step - loss: 0.0023 - accuracy: 8.0418e-04\n",
      "Epoch 20/150\n",
      "78/78 [==============================] - 4s 55ms/step - loss: 0.0022 - accuracy: 8.0418e-04\n",
      "Epoch 21/150\n",
      "78/78 [==============================] - 4s 55ms/step - loss: 0.0022 - accuracy: 8.0418e-04\n",
      "Epoch 22/150\n",
      "78/78 [==============================] - 4s 55ms/step - loss: 0.0023 - accuracy: 8.0418e-04\n",
      "Epoch 23/150\n",
      "78/78 [==============================] - 4s 55ms/step - loss: 0.0022 - accuracy: 8.0418e-04\n",
      "Epoch 24/150\n",
      "78/78 [==============================] - 4s 55ms/step - loss: 0.0021 - accuracy: 8.0418e-04\n",
      "Epoch 25/150\n",
      "78/78 [==============================] - 4s 55ms/step - loss: 0.0021 - accuracy: 8.0418e-04\n",
      "Epoch 26/150\n",
      "78/78 [==============================] - 4s 55ms/step - loss: 0.0022 - accuracy: 8.0418e-04\n",
      "Epoch 27/150\n",
      "78/78 [==============================] - 4s 55ms/step - loss: 0.0018 - accuracy: 8.0418e-04\n",
      "Epoch 28/150\n",
      "78/78 [==============================] - 4s 55ms/step - loss: 0.0019 - accuracy: 8.0418e-04\n",
      "Epoch 29/150\n",
      "78/78 [==============================] - 4s 55ms/step - loss: 0.0019 - accuracy: 8.0418e-04\n",
      "Epoch 30/150\n",
      "78/78 [==============================] - 4s 55ms/step - loss: 0.0018 - accuracy: 8.0418e-04\n",
      "Epoch 31/150\n",
      "78/78 [==============================] - 4s 55ms/step - loss: 0.0017 - accuracy: 8.0418e-04\n",
      "Epoch 32/150\n",
      "78/78 [==============================] - 4s 55ms/step - loss: 0.0018 - accuracy: 8.0418e-04\n",
      "Epoch 33/150\n",
      "78/78 [==============================] - 4s 55ms/step - loss: 0.0017 - accuracy: 8.0418e-04\n",
      "Epoch 34/150\n",
      "78/78 [==============================] - 4s 55ms/step - loss: 0.0018 - accuracy: 8.0418e-04\n",
      "Epoch 35/150\n",
      "78/78 [==============================] - 4s 55ms/step - loss: 0.0016 - accuracy: 8.0418e-04\n",
      "Epoch 36/150\n",
      "78/78 [==============================] - 4s 55ms/step - loss: 0.0015 - accuracy: 8.0418e-04\n",
      "Epoch 37/150\n",
      "78/78 [==============================] - 4s 55ms/step - loss: 0.0016 - accuracy: 8.0418e-04\n",
      "Epoch 38/150\n",
      "78/78 [==============================] - 4s 55ms/step - loss: 0.0017 - accuracy: 8.0418e-04\n",
      "Epoch 39/150\n",
      "78/78 [==============================] - 4s 55ms/step - loss: 0.0015 - accuracy: 8.0418e-04\n",
      "Epoch 40/150\n",
      "78/78 [==============================] - 4s 55ms/step - loss: 0.0017 - accuracy: 8.0418e-04\n",
      "Epoch 41/150\n",
      "78/78 [==============================] - 4s 55ms/step - loss: 0.0015 - accuracy: 8.0418e-04\n",
      "Epoch 42/150\n",
      "78/78 [==============================] - 4s 55ms/step - loss: 0.0014 - accuracy: 8.0418e-04\n",
      "Epoch 43/150\n",
      "78/78 [==============================] - 4s 55ms/step - loss: 0.0014 - accuracy: 8.0418e-04\n",
      "Epoch 44/150\n",
      "78/78 [==============================] - 4s 55ms/step - loss: 0.0014 - accuracy: 8.0418e-04\n",
      "Epoch 45/150\n",
      "78/78 [==============================] - 4s 56ms/step - loss: 0.0014 - accuracy: 8.0418e-04\n",
      "Epoch 46/150\n",
      "78/78 [==============================] - 4s 55ms/step - loss: 0.0015 - accuracy: 8.0418e-04\n",
      "Epoch 47/150\n",
      "78/78 [==============================] - 4s 55ms/step - loss: 0.0014 - accuracy: 8.0418e-04\n",
      "Epoch 48/150\n",
      "78/78 [==============================] - 4s 55ms/step - loss: 0.0013 - accuracy: 8.0418e-04\n",
      "Epoch 49/150\n",
      "78/78 [==============================] - 4s 55ms/step - loss: 0.0013 - accuracy: 8.0418e-04\n",
      "Epoch 50/150\n",
      "78/78 [==============================] - 4s 55ms/step - loss: 0.0013 - accuracy: 8.0418e-04\n",
      "Epoch 51/150\n",
      "78/78 [==============================] - 4s 55ms/step - loss: 0.0013 - accuracy: 8.0418e-04\n",
      "Epoch 52/150\n",
      "78/78 [==============================] - 4s 55ms/step - loss: 0.0012 - accuracy: 8.0418e-04\n",
      "Epoch 53/150\n",
      "78/78 [==============================] - 4s 55ms/step - loss: 0.0013 - accuracy: 8.0418e-04\n",
      "Epoch 54/150\n",
      "78/78 [==============================] - 4s 54ms/step - loss: 0.0014 - accuracy: 8.0418e-04\n",
      "Epoch 55/150\n",
      "78/78 [==============================] - 4s 54ms/step - loss: 0.0012 - accuracy: 8.0418e-04\n",
      "Epoch 56/150\n",
      "78/78 [==============================] - 4s 55ms/step - loss: 0.0012 - accuracy: 8.0418e-04\n",
      "Epoch 57/150\n",
      "78/78 [==============================] - 4s 54ms/step - loss: 0.0012 - accuracy: 8.0418e-04\n",
      "Epoch 58/150\n",
      "78/78 [==============================] - 4s 55ms/step - loss: 0.0012 - accuracy: 8.0418e-04\n",
      "Epoch 59/150\n",
      "78/78 [==============================] - 4s 54ms/step - loss: 0.0012 - accuracy: 8.0418e-04\n",
      "Epoch 60/150\n",
      "78/78 [==============================] - 4s 54ms/step - loss: 0.0011 - accuracy: 8.0418e-04\n",
      "Epoch 61/150\n",
      "78/78 [==============================] - 4s 55ms/step - loss: 0.0012 - accuracy: 8.0418e-04\n",
      "Epoch 62/150\n",
      "78/78 [==============================] - 4s 54ms/step - loss: 0.0012 - accuracy: 8.0418e-04\n",
      "Epoch 63/150\n",
      "78/78 [==============================] - 4s 55ms/step - loss: 0.0012 - accuracy: 8.0418e-04\n",
      "Epoch 64/150\n",
      "78/78 [==============================] - 4s 55ms/step - loss: 0.0011 - accuracy: 8.0418e-04\n",
      "Epoch 65/150\n",
      "78/78 [==============================] - 4s 54ms/step - loss: 0.0012 - accuracy: 8.0418e-04\n",
      "Epoch 66/150\n",
      "78/78 [==============================] - 4s 57ms/step - loss: 0.0011 - accuracy: 8.0418e-04\n",
      "Epoch 67/150\n",
      "78/78 [==============================] - 4s 55ms/step - loss: 0.0012 - accuracy: 8.0418e-04\n",
      "Epoch 68/150\n",
      "78/78 [==============================] - 4s 55ms/step - loss: 0.0011 - accuracy: 8.0418e-04\n",
      "Epoch 69/150\n",
      "78/78 [==============================] - 4s 54ms/step - loss: 0.0011 - accuracy: 8.0418e-04\n",
      "Epoch 70/150\n",
      "78/78 [==============================] - 4s 55ms/step - loss: 0.0011 - accuracy: 8.0418e-04\n",
      "Epoch 71/150\n",
      "78/78 [==============================] - 4s 54ms/step - loss: 0.0013 - accuracy: 8.0418e-04\n",
      "Epoch 72/150\n",
      "78/78 [==============================] - 4s 56ms/step - loss: 0.0011 - accuracy: 8.0418e-04\n",
      "Epoch 73/150\n",
      "78/78 [==============================] - 4s 57ms/step - loss: 0.0011 - accuracy: 8.0418e-04\n",
      "Epoch 74/150\n",
      "78/78 [==============================] - 4s 55ms/step - loss: 0.0011 - accuracy: 8.0418e-04\n",
      "Epoch 75/150\n",
      "78/78 [==============================] - 4s 55ms/step - loss: 0.0011 - accuracy: 8.0418e-04\n",
      "Epoch 76/150\n",
      "78/78 [==============================] - 4s 55ms/step - loss: 0.0010 - accuracy: 8.0418e-04\n",
      "Epoch 77/150\n",
      "78/78 [==============================] - 4s 55ms/step - loss: 0.0011 - accuracy: 8.0418e-04\n",
      "Epoch 78/150\n",
      "78/78 [==============================] - 4s 55ms/step - loss: 0.0010 - accuracy: 8.0418e-04\n",
      "Epoch 79/150\n",
      "78/78 [==============================] - 4s 55ms/step - loss: 0.0011 - accuracy: 8.0418e-04\n",
      "Epoch 80/150\n",
      "78/78 [==============================] - 4s 55ms/step - loss: 0.0010 - accuracy: 8.0418e-04\n",
      "Epoch 81/150\n",
      "78/78 [==============================] - 4s 55ms/step - loss: 0.0012 - accuracy: 8.0418e-04\n",
      "Epoch 82/150\n",
      "78/78 [==============================] - 4s 55ms/step - loss: 0.0010 - accuracy: 8.0418e-04\n",
      "Epoch 83/150\n",
      "78/78 [==============================] - 4s 55ms/step - loss: 0.0011 - accuracy: 8.0418e-04\n",
      "Epoch 84/150\n",
      "78/78 [==============================] - 4s 55ms/step - loss: 9.8715e-04 - accuracy: 8.0418e-04\n",
      "Epoch 85/150\n",
      "78/78 [==============================] - 4s 55ms/step - loss: 9.7767e-04 - accuracy: 8.0418e-04\n",
      "Epoch 86/150\n",
      "78/78 [==============================] - 4s 54ms/step - loss: 9.8755e-04 - accuracy: 8.0418e-04\n",
      "Epoch 87/150\n",
      "78/78 [==============================] - 4s 54ms/step - loss: 0.0011 - accuracy: 8.0418e-04\n",
      "Epoch 88/150\n",
      "78/78 [==============================] - 4s 54ms/step - loss: 0.0011 - accuracy: 8.0418e-04\n",
      "Epoch 89/150\n",
      "78/78 [==============================] - 4s 54ms/step - loss: 9.6755e-04 - accuracy: 8.0418e-04\n",
      "Epoch 90/150\n",
      "78/78 [==============================] - 4s 54ms/step - loss: 0.0011 - accuracy: 8.0418e-04\n",
      "Epoch 91/150\n",
      "78/78 [==============================] - 4s 55ms/step - loss: 0.0010 - accuracy: 8.0418e-04\n",
      "Epoch 92/150\n",
      "78/78 [==============================] - 4s 54ms/step - loss: 0.0010 - accuracy: 8.0418e-04\n",
      "Epoch 93/150\n",
      "78/78 [==============================] - 4s 54ms/step - loss: 9.7562e-04 - accuracy: 8.0418e-04\n",
      "Epoch 94/150\n",
      "78/78 [==============================] - 4s 54ms/step - loss: 0.0011 - accuracy: 8.0418e-04\n",
      "Epoch 95/150\n",
      "78/78 [==============================] - 4s 55ms/step - loss: 0.0011 - accuracy: 8.0418e-04\n",
      "Epoch 96/150\n",
      "78/78 [==============================] - 4s 55ms/step - loss: 0.0010 - accuracy: 8.0418e-04\n",
      "Epoch 97/150\n",
      "78/78 [==============================] - 4s 54ms/step - loss: 0.0011 - accuracy: 8.0418e-04\n",
      "Epoch 98/150\n",
      "78/78 [==============================] - 4s 54ms/step - loss: 0.0011 - accuracy: 8.0418e-04\n",
      "Epoch 99/150\n",
      "78/78 [==============================] - 4s 55ms/step - loss: 9.0332e-04 - accuracy: 8.0418e-04\n",
      "Epoch 100/150\n",
      "78/78 [==============================] - 4s 54ms/step - loss: 0.0010 - accuracy: 8.0418e-04\n",
      "Epoch 101/150\n",
      "78/78 [==============================] - 4s 55ms/step - loss: 0.0010 - accuracy: 8.0418e-04\n",
      "Epoch 102/150\n",
      "78/78 [==============================] - 4s 54ms/step - loss: 0.0010 - accuracy: 8.0418e-04\n",
      "Epoch 103/150\n",
      "78/78 [==============================] - 4s 54ms/step - loss: 0.0011 - accuracy: 8.0418e-04\n",
      "Epoch 104/150\n",
      "78/78 [==============================] - 4s 54ms/step - loss: 0.0011 - accuracy: 8.0418e-04\n",
      "Epoch 105/150\n",
      "78/78 [==============================] - 4s 54ms/step - loss: 9.7902e-04 - accuracy: 8.0418e-04\n",
      "Epoch 106/150\n",
      "78/78 [==============================] - 4s 54ms/step - loss: 8.9719e-04 - accuracy: 8.0418e-04\n",
      "Epoch 107/150\n",
      "78/78 [==============================] - 4s 54ms/step - loss: 0.0010 - accuracy: 8.0418e-04\n",
      "Epoch 108/150\n",
      "78/78 [==============================] - 4s 54ms/step - loss: 0.0010 - accuracy: 8.0418e-04\n",
      "Epoch 109/150\n",
      "78/78 [==============================] - 4s 54ms/step - loss: 9.9247e-04 - accuracy: 8.0418e-04\n",
      "Epoch 110/150\n",
      "78/78 [==============================] - 4s 54ms/step - loss: 0.0011 - accuracy: 8.0418e-04\n",
      "Epoch 111/150\n",
      "78/78 [==============================] - 4s 54ms/step - loss: 9.7160e-04 - accuracy: 8.0418e-04\n",
      "Epoch 112/150\n",
      "78/78 [==============================] - 4s 54ms/step - loss: 0.0010 - accuracy: 8.0418e-04\n",
      "Epoch 113/150\n",
      "78/78 [==============================] - 4s 55ms/step - loss: 0.0010 - accuracy: 8.0418e-04\n",
      "Epoch 114/150\n",
      "78/78 [==============================] - 4s 57ms/step - loss: 0.0011 - accuracy: 8.0418e-04\n",
      "Epoch 115/150\n",
      "78/78 [==============================] - 4s 58ms/step - loss: 9.9383e-04 - accuracy: 8.0418e-04\n",
      "Epoch 116/150\n",
      "78/78 [==============================] - 4s 55ms/step - loss: 9.6448e-04 - accuracy: 8.0418e-04\n",
      "Epoch 117/150\n",
      "78/78 [==============================] - 4s 55ms/step - loss: 0.0010 - accuracy: 8.0418e-04\n",
      "Epoch 118/150\n",
      "78/78 [==============================] - 4s 54ms/step - loss: 9.6285e-04 - accuracy: 8.0418e-04\n",
      "Epoch 119/150\n",
      "78/78 [==============================] - 4s 54ms/step - loss: 9.9769e-04 - accuracy: 8.0418e-04\n",
      "Epoch 120/150\n",
      "78/78 [==============================] - 4s 55ms/step - loss: 9.9858e-04 - accuracy: 8.0418e-04\n",
      "Epoch 121/150\n",
      "78/78 [==============================] - 4s 54ms/step - loss: 0.0011 - accuracy: 8.0418e-04\n",
      "Epoch 122/150\n",
      "78/78 [==============================] - 4s 55ms/step - loss: 0.0010 - accuracy: 8.0418e-04\n",
      "Epoch 123/150\n",
      "78/78 [==============================] - 4s 54ms/step - loss: 9.3528e-04 - accuracy: 8.0418e-04\n",
      "Epoch 124/150\n",
      "78/78 [==============================] - 4s 55ms/step - loss: 9.0559e-04 - accuracy: 8.0418e-04\n",
      "Epoch 125/150\n",
      "78/78 [==============================] - 4s 54ms/step - loss: 9.4572e-04 - accuracy: 8.0418e-04\n",
      "Epoch 126/150\n",
      "78/78 [==============================] - 4s 54ms/step - loss: 9.4222e-04 - accuracy: 8.0418e-04\n",
      "Epoch 127/150\n",
      "78/78 [==============================] - 4s 55ms/step - loss: 9.7284e-04 - accuracy: 8.0418e-04\n",
      "Epoch 128/150\n",
      "78/78 [==============================] - 4s 54ms/step - loss: 9.7614e-04 - accuracy: 8.0418e-04\n",
      "Epoch 129/150\n",
      "78/78 [==============================] - 4s 55ms/step - loss: 9.7852e-04 - accuracy: 8.0418e-04\n",
      "Epoch 130/150\n",
      "78/78 [==============================] - 4s 54ms/step - loss: 9.0229e-04 - accuracy: 8.0418e-04\n",
      "Epoch 131/150\n",
      "78/78 [==============================] - 4s 55ms/step - loss: 9.2631e-04 - accuracy: 8.0418e-04\n",
      "Epoch 132/150\n",
      "78/78 [==============================] - 4s 54ms/step - loss: 0.0010 - accuracy: 8.0418e-04\n",
      "Epoch 133/150\n",
      "78/78 [==============================] - 4s 54ms/step - loss: 9.4966e-04 - accuracy: 8.0418e-04\n",
      "Epoch 134/150\n",
      "78/78 [==============================] - 4s 54ms/step - loss: 9.5062e-04 - accuracy: 8.0418e-04\n",
      "Epoch 135/150\n",
      "78/78 [==============================] - 4s 55ms/step - loss: 9.3371e-04 - accuracy: 8.0418e-04\n",
      "Epoch 136/150\n",
      "78/78 [==============================] - 4s 55ms/step - loss: 0.0011 - accuracy: 8.0418e-04\n",
      "Epoch 137/150\n",
      "78/78 [==============================] - 4s 55ms/step - loss: 0.0011 - accuracy: 8.0418e-04\n",
      "Epoch 138/150\n",
      "78/78 [==============================] - 4s 54ms/step - loss: 9.2261e-04 - accuracy: 8.0418e-04\n",
      "Epoch 139/150\n",
      "78/78 [==============================] - 4s 55ms/step - loss: 8.9863e-04 - accuracy: 8.0418e-04\n",
      "Epoch 140/150\n",
      "78/78 [==============================] - 4s 54ms/step - loss: 9.3537e-04 - accuracy: 8.0418e-04\n",
      "Epoch 141/150\n",
      "78/78 [==============================] - 4s 55ms/step - loss: 9.7644e-04 - accuracy: 8.0418e-04\n",
      "Epoch 142/150\n",
      "78/78 [==============================] - 4s 55ms/step - loss: 0.0010 - accuracy: 8.0418e-04\n",
      "Epoch 143/150\n",
      "78/78 [==============================] - 4s 55ms/step - loss: 9.6491e-04 - accuracy: 8.0418e-04\n",
      "Epoch 144/150\n",
      "78/78 [==============================] - 4s 54ms/step - loss: 0.0010 - accuracy: 8.0418e-04\n",
      "Epoch 145/150\n",
      "78/78 [==============================] - 4s 54ms/step - loss: 9.8770e-04 - accuracy: 8.0418e-04\n",
      "Epoch 146/150\n",
      "78/78 [==============================] - 4s 54ms/step - loss: 0.0010 - accuracy: 8.0418e-04\n",
      "Epoch 147/150\n",
      "78/78 [==============================] - 4s 55ms/step - loss: 0.0011 - accuracy: 8.0418e-04\n",
      "Epoch 148/150\n",
      "78/78 [==============================] - 4s 54ms/step - loss: 0.0010 - accuracy: 8.0418e-04\n",
      "Epoch 149/150\n",
      "78/78 [==============================] - 4s 55ms/step - loss: 8.8242e-04 - accuracy: 8.0418e-04\n",
      "Epoch 150/150\n",
      "78/78 [==============================] - 4s 55ms/step - loss: 8.3838e-04 - accuracy: 8.0418e-04\n"
     ]
    },
    {
     "data": {
      "text/plain": [
       "<keras.callbacks.History at 0x1343bb53220>"
      ]
     },
     "execution_count": 42,
     "metadata": {},
     "output_type": "execute_result"
    }
   ],
   "source": [
    "regressor.fit(x_train, y_train, epochs = 150, batch_size = 32 )"
   ]
  },
  {
   "cell_type": "code",
   "execution_count": 45,
   "id": "cfc6957d",
   "metadata": {},
   "outputs": [],
   "source": [
    "test_dataset = pd.read_csv('test set adani.csv')\n",
    "real_test_set = test_dataset.iloc[:,1:2].values"
   ]
  },
  {
   "cell_type": "code",
   "execution_count": 46,
   "id": "607cf7aa",
   "metadata": {},
   "outputs": [],
   "source": [
    "full_dataset = pd.concat((train_dataset['Open'], test_dataset['Open']),axis = 0)\n",
    "inputs = full_dataset[(len(full_dataset)- len(test_dataset))-60 :].values\n",
    "inputs = inputs.reshape(-1,1)\n",
    "inputs = sc.transform(inputs)"
   ]
  },
  {
   "cell_type": "code",
   "execution_count": 48,
   "id": "cc949642",
   "metadata": {},
   "outputs": [],
   "source": [
    "x_test = []\n",
    "for i in range(60 ,140):\n",
    "    x_test.append(inputs[i-60:i,0])\n",
    "x_test = np.array(x_test) "
   ]
  },
  {
   "cell_type": "code",
   "execution_count": 49,
   "id": "e7a96752",
   "metadata": {},
   "outputs": [
    {
     "data": {
      "text/plain": [
       "array([[0.67448331, 0.66719661, 0.67037626, ..., 0.99894012, 0.99629041,\n",
       "        1.        ],\n",
       "       [0.66719661, 0.67037626, 0.66534181, ..., 0.99629041, 1.        ,\n",
       "        0.99894012],\n",
       "       [0.67037626, 0.66534181, 0.66149974, ..., 1.        , 0.99894012,\n",
       "        1.0572337 ],\n",
       "       ...,\n",
       "       [1.11354001, 1.08028617, 1.11168521, ..., 1.66520933, 1.65606783,\n",
       "        1.66136725],\n",
       "       [1.08028617, 1.11168521, 1.07657658, ..., 1.65606783, 1.66136725,\n",
       "        1.71436142],\n",
       "       [1.11168521, 1.07657658, 1.16772655, ..., 1.66136725, 1.71436142,\n",
       "        1.70959194]])"
      ]
     },
     "execution_count": 49,
     "metadata": {},
     "output_type": "execute_result"
    }
   ],
   "source": [
    "x_test"
   ]
  },
  {
   "cell_type": "code",
   "execution_count": 50,
   "id": "9624061b",
   "metadata": {},
   "outputs": [],
   "source": [
    "x_test = np.reshape(x_test, (x_test.shape[0], x_test.shape[1],1))"
   ]
  },
  {
   "cell_type": "code",
   "execution_count": 51,
   "id": "44cacb80",
   "metadata": {},
   "outputs": [],
   "source": [
    "predicted_preice = regressor.predict(x_test)\n",
    "predicted_preice = sc.inverse_transform(predicted_preice)"
   ]
  },
  {
   "cell_type": "code",
   "execution_count": 52,
   "id": "8515f59f",
   "metadata": {},
   "outputs": [
    {
     "data": {
      "image/png": "[encoded data removed]",
      "text/plain": [
       "<Figure size 432x288 with 1 Axes>"
      ]
     },
     "metadata": {
      "needs_background": "light"
     },
     "output_type": "display_data"
    }
   ],
   "source": [
    "plt.plot(real_test_set, color = 'red', label = 'real price adani')\n",
    "plt.plot(predicted_preice, color = 'blue', label = 'predicted')\n",
    "plt.title('adani prediction')\n",
    "plt.legend()\n",
    "plt.show()"
   ]
  },
  {
   "cell_type": "code",
   "execution_count": null,
   "id": "6179c48b",
   "metadata": {},
   "outputs": [],
   "source": []
  }
 ],
 "metadata": {
  "kernelspec": {
   "display_name": "Python 3",
   "language": "python",
   "name": "python3"
  },
  "language_info": {
   "codemirror_mode": {
    "name": "ipython",
    "version": 3
   },
   "file_extension": ".py",
   "mimetype": "text/x-python",
   "name": "python",
   "nbconvert_exporter": "python",
   "pygments_lexer": "ipython3",
   "version": "3.8.8"
  }
 },
 "nbformat": 4,
 "nbformat_minor": 5
}
